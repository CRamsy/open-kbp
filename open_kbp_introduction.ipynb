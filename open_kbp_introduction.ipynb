{
 "cells": [
  {
   "cell_type": "markdown",
   "metadata": {
    "colab_type": "text",
    "id": "0BGZduk0-bBP"
   },
   "source": [
    "<center>    \n",
    "<h3>American Association of Physicists in Medicine</h3>    \n",
    "<h3>Grand Challenge 2020</h3> \n",
    "<h3>OpenKBP</h3>\n",
    "<hr>\n",
    "<h1>Introduction</h1>    \n",
    "<h3>February 14, 2020</h3>\n",
    "</center> "
   ]
  },
  {
   "cell_type": "markdown",
   "source": [
    "Before running this notebook, make a directory in the main directory of your Google Drive and name it open-kbp. The \n",
    "code-block below will mount your Google Drive and give you access to all your files from this notebook. "
   ],
   "metadata": {
    "collapsed": false,
    "pycharm": {
     "name": "#%% md\n"
    }
   }
  },
  {
   "cell_type": "code",
   "execution_count": null,
   "outputs": [],
   "source": [
    "# Mount your personal google drive\n",
    "# from google.colab import drive \n",
    "# drive.mount('/content/drive')"
   ],
   "metadata": {
    "collapsed": false,
    "pycharm": {
     "name": "#%%\n"
    }
   }
  },
  {
   "cell_type": "markdown",
   "source": [
    "By default, the path to your Drive should be \"/content/drive/My Drive\". You may check this by clicking the file icon in\n",
    "the toolbar on the left side of Colab. From there you can navigate through your file tree and copy the path of any\n",
    "file in your Drive. \n",
    "\n",
    "Next, add the open-kbp directory to your path."
   ],
   "metadata": {
    "collapsed": false,
    "pycharm": {
     "name": "#%% md\n"
    }
   }
  },
  {
   "cell_type": "code",
   "execution_count": null,
   "outputs": [],
   "source": [
    "# Add all files to path related to open-kbp. \n",
    "# A directory 'train-pats' with all training patient data should be included in open-kbp\n",
    "# import sys\n",
    "# sys.path.insert(0, '/content/drive/My Drive/open-kbp')\n",
    "\n",
    "# # Use tensorflow 2\n",
    "# %tensorflow_version 2.x"
   ],
   "metadata": {
    "collapsed": false,
    "pycharm": {
     "name": "#%%\n"
    }
   }
  },
  {
   "cell_type": "markdown",
   "metadata": {
    "colab_type": "text",
    "id": "dOa3thQo8z_q"
   },
   "source": [
    "Import all necessary packages for the notebook"
   ]
  },
  {
   "cell_type": "code",
   "execution_count": 1,
   "metadata": {
    "colab": {
     "base_uri": "https://localhost:8080/",
     "height": 62
    },
    "colab_type": "code",
    "id": "vnvwlt8r80eR",
    "outputId": "a04e14a4-6671-4d85-eb0f-ed6c63312323",
    "pycharm": {
     "is_executing": false
    }
   },
   "outputs": [],
   "source": [
    "# %tensorflow_version 2.x #  This ensures you use the newest version of tensorflow\n",
    "import tensorflow as tf\n",
    "\n",
    "# Import provided classes and functions\n",
    "import shutil\n",
    "\n",
    "from provided_code.data_loader import DataLoader\n",
    "from provided_code.dose_evaluation_class import EvaluateDose\n",
    "from provided_code.general_functions import get_paths, make_directory_and_return_path\n",
    "from provided_code.network_functions import PredictionModel"
   ]
  },
  {
   "cell_type": "markdown",
   "metadata": {
    "colab_type": "text",
    "id": "PSmow21srjCI"
   },
   "source": [
    "Define the paths where the provided data is stored and where the results (e.g., models, predictions) should be saved. "
   ]
  },
  {
   "cell_type": "code",
   "execution_count": 2,
   "metadata": {
    "colab": {},
    "colab_type": "code",
    "id": "FFJEIaar-d2r",
    "pycharm": {
     "is_executing": false
    }
   },
   "outputs": [],
   "source": [
    "# Define parent directory\n",
    "main_data_dir = '/Users/aaronbabier/Desktop/open-kbp/provided-data'  # path where any provided data is stored\n",
    "results_dir = '/Users/aaronbabier/Desktop/open-kbp/results'  # parent path where results are stored\n",
    "\n",
    "# Define path to training data and validation data \n",
    "training_data_dir = '{}/train-pats'.format(main_data_dir)\n",
    "validation_data_dir = '{}/valid-pats'.format(main_data_dir)"
   ]
  },
  {
   "cell_type": "markdown",
   "source": [
    "Name the model. This name will be used to label directories containing the results that the model generates. Also, \n",
    "define how many epochs the model should be trained for. It will likely take a large number of epochs (e.g., 100-200)\n",
    "to get good results. "
   ],
   "metadata": {
    "collapsed": false,
    "pycharm": {
     "name": "#%% md\n"
    }
   }
  },
  {
   "cell_type": "code",
   "execution_count": null,
   "outputs": [],
   "source": [
    "prediction_name = 'baseline'\n",
    "number_of_training_epochs = 2"
   ],
   "metadata": {
    "collapsed": false,
    "pycharm": {
     "name": "#%%\n"
    }
   }
  },
  {
   "cell_type": "markdown",
   "source": [
    "Retrieve the paths for all patient directories, and make a list of patient directories \n",
    "for a training and validation set."
   ],
   "metadata": {
    "collapsed": false,
    "pycharm": {
     "name": "#%% md\n"
    }
   }
  },
  {
   "cell_type": "code",
   "execution_count": null,
   "outputs": [],
   "source": [
    "plan_paths = get_paths(training_data_dir, ext='')  # gets the path of each plan's directory\n",
    "num_train_pats = 100  # number of plans that will be used to train model\n",
    "training_paths = plan_paths[:num_train_pats]  # list of training plans\n",
    "hold_out_paths = plan_paths[num_train_pats:]  # list of paths used for held out testing"
   ],
   "metadata": {
    "collapsed": false,
    "pycharm": {
     "name": "#%% \n"
    }
   }
  },
  {
   "cell_type": "markdown",
   "source": [
    "Initialize a loads data from the list of patients in the training set. "
   ],
   "metadata": {
    "collapsed": false,
    "pycharm": {
     "name": "#%% md\n"
    }
   }
  },
  {
   "cell_type": "code",
   "execution_count": null,
   "outputs": [],
   "source": [
    "data_loader_train = DataLoader(training_paths)"
   ],
   "metadata": {
    "collapsed": false,
    "pycharm": {
     "name": "#%%\n"
    }
   }
  },
  {
   "cell_type": "markdown",
   "source": [
    "Initialize the prediction model class and train the model over the specified number of epochs. "
   ],
   "metadata": {
    "collapsed": false,
    "pycharm": {
     "name": "#%% md\n"
    }
   }
  },
  {
   "cell_type": "code",
   "execution_count": null,
   "outputs": [],
   "source": [
    "# Idealize the model\n",
    "dose_prediction_model_train = PredictionModel(data_loader_train, results_dir, model_name=prediction_name)\n",
    "\n",
    "\n",
    "# Train the model and save it after a specified number of epochs since the last save\n",
    "dose_prediction_model_train.train_model(epochs=number_of_training_epochs, save_frequency=1, keep_model_history=1)\n"
   ],
   "metadata": {
    "collapsed": false,
    "pycharm": {
     "name": "#%%\n"
    }
   }
  },
  {
   "cell_type": "markdown",
   "source": [
    "Now that the model is trained we can use it to predict the dose for the set of held-out patients from the training set \n",
    "that we set aside earlier. We start by making a new data loader for the held-out set, and use it to predict (and save) a \n",
    "set of out-of-sample dose distributions. Note that we change the mode of the data loader to 'dose_prediction' to \n",
    "load only the data needed to make a prediction."
   ],
   "metadata": {
    "collapsed": false,
    "pycharm": {
     "name": "#%% md\n"
    }
   }
  },
  {
   "cell_type": "code",
   "source": [
    "# Predict dose for the held out set\n",
    "data_loader_hold_out = DataLoader(hold_out_paths, mode_name='dose_prediction')\n",
    "dose_prediction_model_hold_out = PredictionModel(data_loader_hold_out, results_dir, model_name=prediction_name)\n",
    "dose_prediction_model_hold_out.predict_dose(epoch=number_of_training_epochs)"
   ],
   "metadata": {
    "collapsed": false,
    "pycharm": {
     "name": "#%% \n"
    }
   },
   "execution_count": null,
   "outputs": []
  },
  {
   "cell_type": "markdown",
   "source": [
    "Load each predicted dose distribution and evaluate it against the ground truth using the \n",
    "competition metrics."
   ],
   "metadata": {
    "collapsed": false,
    "pycharm": {
     "name": "#%% md\n",
     "is_executing": false
    }
   }
  },
  {
   "cell_type": "code",
   "execution_count": null,
   "outputs": [],
   "source": [
    "# Evaluate dose metrics\n",
    "data_loader_hold_out.set_mode('evaluation')  # Change the data loader to evaluation mode\n",
    "prediction_paths = get_paths(dose_prediction_model_hold_out.prediction_dir, ext='csv')  # Get path to newly made predictions\n",
    "hold_out_prediction_loader = DataLoader(prediction_paths, mode_name='predicted_dose')  # Initialize the prediction loader\n",
    "dose_evaluator = EvaluateDose(data_loader_hold_out, hold_out_prediction_loader)\n",
    "dvh_score, dose_score = dose_evaluator.make_metrics()\n",
    "print('In this out-of-sample test:\\n'\n",
    "      '\\tthe DVH score is {:.3f}\\n '\n",
    "      '\\tthe dose score is {:.3f}'.format(dvh_score, dose_score))"
   ],
   "metadata": {
    "collapsed": false,
    "pycharm": {
     "name": "#%%\n"
    }
   }
  },
  {
   "cell_type": "markdown",
   "source": [
    "If the model is performing well here you can try predicting the dose from the OpenKBP validation set. All you need to do\n",
    "is use the same prediction model that was just trained and predict the dose for the patients in the validation set "
   ],
   "metadata": {
    "collapsed": false,
    "pycharm": {
     "name": "#%% md\n"
    }
   }
  },
  {
   "cell_type": "code",
   "execution_count": null,
   "outputs": [],
   "source": [
    "# Apply model to validation set\n",
    "validation_data_paths = get_paths(validation_data_dir, ext='')  # gets the path of each plan's directory\n",
    "validation_data_loader = DataLoader(validation_data_paths, mode_name='dose_prediction')\n",
    "dose_prediction_model_hold_out = PredictionModel(validation_data_loader, results_dir, model_name=prediction_name)\n",
    "dose_prediction_model_hold_out.predict_dose(epoch=number_of_training_epochs)"
   ],
   "metadata": {
    "collapsed": false,
    "pycharm": {
     "name": "#%%\n"
    }
   }
  },
  {
   "cell_type": "markdown",
   "source": [
    "You may wish to check that the metrics seem reasonable. Although there's no baseline available you can still\n",
    "evaluate plans based against on dose metrics to double check that your prediction seems reasonable. \n"
   ],
   "metadata": {
    "collapsed": false,
    "pycharm": {
     "name": "#%% md\n"
    }
   }
  },
  {
   "cell_type": "code",
   "execution_count": null,
   "outputs": [],
   "source": [
    "validation_eval_data_loader = DataLoader(validation_data_paths, mode_name='evaluation')  # Set data loader\n",
    "dose_evaluator = EvaluateDose(validation_eval_data_loader)\n",
    "dose_evaluator.make_metrics()\n",
    "validation_prediction_metrics = dose_evaluator.reference_dose_metric_df.head()"
   ],
   "metadata": {
    "collapsed": false,
    "pycharm": {
     "name": "#%%\n"
    }
   }
  },
  {
   "cell_type": "markdown",
   "source": [
    "Once you're happy with your dose distributions you can zip up the predictions with the code block below. The zipped file\n",
    "will contain the dose distributions for the validation set. It can be uploaded directly to CodaLab."
   ],
   "metadata": {
    "collapsed": false,
    "pycharm": {
     "name": "#%% md\n"
    }
   }
  },
  {
   "cell_type": "code",
   "execution_count": null,
   "outputs": [],
   "source": [
    "# Zip dose to submit\n",
    "submission_dir = make_directory_and_return_path('{}/submissions/{}'.format(results_dir, prediction_name))\n",
    "shutil.make_archive(submission_dir, 'zip', dose_prediction_model_hold_out.prediction_dir)"
   ],
   "metadata": {
    "collapsed": false,
    "pycharm": {
     "name": "#%%\n"
    }
   }
  }
 ],
 "metadata": {
  "accelerator": "GPU",
  "colab": {
   "collapsed_sections": [],
   "name": "open-kbp-introduction.ipynb",
   "provenance": [],
   "toc_visible": true
  },
  "kernelspec": {
   "name": "pycharm-3642c69f",
   "language": "python",
   "display_name": "PyCharm (open-kbp-competition)"
  },
  "language_info": {
   "codemirror_mode": {
    "name": "ipython",
    "version": 3
   },
   "file_extension": ".py",
   "mimetype": "text/x-python",
   "name": "python",
   "nbconvert_exporter": "python",
   "pygments_lexer": "ipython3",
   "version": "3.7.2"
  },
  "pycharm": {
   "stem_cell": {
    "cell_type": "raw",
    "source": [],
    "metadata": {
     "collapsed": false
    }
   }
  }
 },
 "nbformat": 4,
 "nbformat_minor": 1
}